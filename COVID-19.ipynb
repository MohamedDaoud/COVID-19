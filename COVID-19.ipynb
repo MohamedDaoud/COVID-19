{
 "cells": [
  {
   "cell_type": "code",
   "execution_count": null,
   "metadata": {
    "colab": {},
    "colab_type": "code",
    "id": "tvEh-krrYwgs"
   },
   "outputs": [],
   "source": [
    "# !apt-get install openjdk-8-jdk-headless -qq > /dev/null\n",
    "# !wget -q https://www-us.apache.org/dist/spark/spark-2.4.5/spark-2.4.5-bin-hadoop2.7.tgz\n",
    "# !tar xf spark-2.4.5-bin-hadoop2.7.tgz\n",
    "\n",
    "# !unzip CORD-19-research-challenge.zip "
   ]
  },
  {
   "cell_type": "code",
   "execution_count": 125,
   "metadata": {},
   "outputs": [],
   "source": [
    "sc.stop()"
   ]
  },
  {
   "cell_type": "code",
   "execution_count": null,
   "metadata": {},
   "outputs": [],
   "source": [
    "# !pip3 install -q findspark"
   ]
  },
  {
   "cell_type": "code",
   "execution_count": 126,
   "metadata": {
    "colab": {},
    "colab_type": "code",
    "id": "O-gFAAClZLFf"
   },
   "outputs": [],
   "source": [
    "import os\n",
    "os.environ[\"JAVA_HOME\"] = \"/usr/lib/jvm/java-8-openjdk-amd64\"\n",
    "os.environ[\"SPARK_HOME\"] = \"spark-2.4.5-bin-hadoop2.7\""
   ]
  },
  {
   "cell_type": "code",
   "execution_count": 127,
   "metadata": {
    "colab": {},
    "colab_type": "code",
    "id": "q-4Kh_kDm1qP"
   },
   "outputs": [],
   "source": [
    "\n",
    "import findspark\n",
    "findspark.init()"
   ]
  },
  {
   "cell_type": "code",
   "execution_count": 128,
   "metadata": {
    "colab": {},
    "colab_type": "code",
    "id": "K4FA5doToNoI"
   },
   "outputs": [],
   "source": [
    "\n",
    "from pyspark.sql import SparkSession\n",
    "from pyspark import SparkContext \n",
    "sc = SparkContext(\"local\", \"first app\")\n",
    "spark = SparkSession \\\n",
    "    .builder.appName(\"Covid-19\").config(\"spark.driver.memory\", \"9g\").getOrCreate() #.config(\"spark.driver.memory\", \"10g\")"
   ]
  },
  {
   "cell_type": "code",
   "execution_count": 129,
   "metadata": {
    "colab": {},
    "colab_type": "code",
    "id": "SarzpFaLZUfg"
   },
   "outputs": [],
   "source": [
    "import os\n",
    "import json\n",
    "import pandas as pd\n",
    "from pyspark import SQLContext \n",
    "from pyspark.ml.feature import  IDF, Tokenizer\n",
    "from pyspark.ml import Pipeline\n",
    "from pyspark.ml.feature import CountVectorizer\n",
    "from pyspark.ml.feature import PCA\n",
    "from pyspark.ml.clustering import KMeans\n",
    "from pyspark.sql.types import IntegerType\n",
    "from pyspark.sql.types import DateType\n",
    "from pyspark.sql.functions import *"
   ]
  },
  {
   "cell_type": "code",
   "execution_count": 130,
   "metadata": {
    "colab": {},
    "colab_type": "code",
    "id": "mGdl-1vKokJ1"
   },
   "outputs": [],
   "source": [
    "from pyspark.sql.types import (\n",
    "    ArrayType,\n",
    "    IntegerType,\n",
    "    MapType,\n",
    "    StringType,\n",
    "    StructField,\n",
    "    StructType,\n",
    ")"
   ]
  },
  {
   "cell_type": "markdown",
   "metadata": {},
   "source": [
    "# Data analysis"
   ]
  },
  {
   "cell_type": "code",
   "execution_count": 51,
   "metadata": {},
   "outputs": [],
   "source": [
    "metadata = spark.read\\\n",
    "                .format(\"csv\")\\\n",
    "                .option(\"header\", \"true\")\\\n",
    "                .load('metadata.csv')"
   ]
  },
  {
   "cell_type": "code",
   "execution_count": 52,
   "metadata": {},
   "outputs": [
    {
     "data": {
      "text/html": [
       "<div>\n",
       "<style scoped>\n",
       "    .dataframe tbody tr th:only-of-type {\n",
       "        vertical-align: middle;\n",
       "    }\n",
       "\n",
       "    .dataframe tbody tr th {\n",
       "        vertical-align: top;\n",
       "    }\n",
       "\n",
       "    .dataframe thead th {\n",
       "        text-align: right;\n",
       "    }\n",
       "</style>\n",
       "<table border=\"1\" class=\"dataframe\">\n",
       "  <thead>\n",
       "    <tr style=\"text-align: right;\">\n",
       "      <th></th>\n",
       "      <th>count</th>\n",
       "    </tr>\n",
       "  </thead>\n",
       "  <tbody>\n",
       "    <tr>\n",
       "      <th>count</th>\n",
       "      <td>17273.000000</td>\n",
       "    </tr>\n",
       "    <tr>\n",
       "      <th>mean</th>\n",
       "      <td>7.438893</td>\n",
       "    </tr>\n",
       "    <tr>\n",
       "      <th>std</th>\n",
       "      <td>57.597944</td>\n",
       "    </tr>\n",
       "    <tr>\n",
       "      <th>min</th>\n",
       "      <td>1.000000</td>\n",
       "    </tr>\n",
       "    <tr>\n",
       "      <th>25%</th>\n",
       "      <td>1.000000</td>\n",
       "    </tr>\n",
       "    <tr>\n",
       "      <th>50%</th>\n",
       "      <td>2.000000</td>\n",
       "    </tr>\n",
       "    <tr>\n",
       "      <th>75%</th>\n",
       "      <td>4.000000</td>\n",
       "    </tr>\n",
       "    <tr>\n",
       "      <th>max</th>\n",
       "      <td>6082.000000</td>\n",
       "    </tr>\n",
       "  </tbody>\n",
       "</table>\n",
       "</div>"
      ],
      "text/plain": [
       "              count\n",
       "count  17273.000000\n",
       "mean       7.438893\n",
       "std       57.597944\n",
       "min        1.000000\n",
       "25%        1.000000\n",
       "50%        2.000000\n",
       "75%        4.000000\n",
       "max     6082.000000"
      ]
     },
     "execution_count": 52,
     "metadata": {},
     "output_type": "execute_result"
    }
   ],
   "source": [
    "journalstat = metadata.groupby(\"journal\").count().toPandas() \n",
    "journalstat.describe()"
   ]
  },
  {
   "cell_type": "code",
   "execution_count": 148,
   "metadata": {},
   "outputs": [
    {
     "data": {
      "image/png": "[encoded data removed]",
      "text/plain": [
       "<Figure size 432x288 with 1 Axes>"
      ]
     },
     "metadata": {
      "needs_background": "light"
     },
     "output_type": "display_data"
    }
   ],
   "source": [
    "licensestatdf = metadata.groupby(\"license\").count()\n",
    "licensestat= licensestatdf.collect()\n",
    "from matplotlib import pyplot  \n",
    "\n",
    "indexes = list(range(len(licensestat)))\n",
    "values = [r['count'] for r in licensestat]\n",
    "labels = [r['license'] for r in licensestat]\n",
    "bar_width = 0.35\n",
    "pyplot.bar(indexes, values)\n",
    "#add labels\n",
    "labelidx = [i + bar_width for i in indexes] \n",
    "pyplot.xticks(labelidx, labels)\n",
    "pyplot.show()"
   ]
  },
  {
   "cell_type": "code",
   "execution_count": 146,
   "metadata": {},
   "outputs": [
    {
     "data": {
      "text/html": [
       "<div>\n",
       "<style scoped>\n",
       "    .dataframe tbody tr th:only-of-type {\n",
       "        vertical-align: middle;\n",
       "    }\n",
       "\n",
       "    .dataframe tbody tr th {\n",
       "        vertical-align: top;\n",
       "    }\n",
       "\n",
       "    .dataframe thead th {\n",
       "        text-align: right;\n",
       "    }\n",
       "</style>\n",
       "<table border=\"1\" class=\"dataframe\">\n",
       "  <thead>\n",
       "    <tr style=\"text-align: right;\">\n",
       "      <th></th>\n",
       "      <th>license</th>\n",
       "      <th>count</th>\n",
       "    </tr>\n",
       "  </thead>\n",
       "  <tbody>\n",
       "    <tr>\n",
       "      <th>0</th>\n",
       "      <td>no-cc</td>\n",
       "      <td>32800</td>\n",
       "    </tr>\n",
       "    <tr>\n",
       "      <th>1</th>\n",
       "      <td>32369433</td>\n",
       "      <td>1</td>\n",
       "    </tr>\n",
       "    <tr>\n",
       "      <th>2</th>\n",
       "      <td>27647350</td>\n",
       "      <td>1</td>\n",
       "    </tr>\n",
       "    <tr>\n",
       "      <th>3</th>\n",
       "      <td>cc-by-nc-nd</td>\n",
       "      <td>899</td>\n",
       "    </tr>\n",
       "    <tr>\n",
       "      <th>4</th>\n",
       "      <td>cc-by-nc-sa</td>\n",
       "      <td>551</td>\n",
       "    </tr>\n",
       "  </tbody>\n",
       "</table>\n",
       "</div>"
      ],
      "text/plain": [
       "       license  count\n",
       "0        no-cc  32800\n",
       "1     32369433      1\n",
       "2     27647350      1\n",
       "3  cc-by-nc-nd    899\n",
       "4  cc-by-nc-sa    551"
      ]
     },
     "execution_count": 146,
     "metadata": {},
     "output_type": "execute_result"
    }
   ],
   "source": [
    "licensestatdf.toPandas().head()"
   ]
  },
  {
   "cell_type": "code",
   "execution_count": 153,
   "metadata": {},
   "outputs": [],
   "source": [
    "source_xstatdf = metadata.groupby(\"source_x\").count()"
   ]
  },
  {
   "cell_type": "code",
   "execution_count": 154,
   "metadata": {},
   "outputs": [
    {
     "data": {
      "text/html": [
       "<div>\n",
       "<style scoped>\n",
       "    .dataframe tbody tr th:only-of-type {\n",
       "        vertical-align: middle;\n",
       "    }\n",
       "\n",
       "    .dataframe tbody tr th {\n",
       "        vertical-align: top;\n",
       "    }\n",
       "\n",
       "    .dataframe thead th {\n",
       "        text-align: right;\n",
       "    }\n",
       "</style>\n",
       "<table border=\"1\" class=\"dataframe\">\n",
       "  <thead>\n",
       "    <tr style=\"text-align: right;\">\n",
       "      <th></th>\n",
       "      <th>source_x</th>\n",
       "      <th>count</th>\n",
       "    </tr>\n",
       "  </thead>\n",
       "  <tbody>\n",
       "    <tr>\n",
       "      <th>0</th>\n",
       "      <td>Elsevier; WHO</td>\n",
       "      <td>48</td>\n",
       "    </tr>\n",
       "    <tr>\n",
       "      <th>1</th>\n",
       "      <td>ArXiv; Medline; PMC; WHO</td>\n",
       "      <td>3</td>\n",
       "    </tr>\n",
       "    <tr>\n",
       "      <th>2</th>\n",
       "      <td>Medline</td>\n",
       "      <td>49338</td>\n",
       "    </tr>\n",
       "    <tr>\n",
       "      <th>3</th>\n",
       "      <td>ArXiv; Medline; PMC</td>\n",
       "      <td>21</td>\n",
       "    </tr>\n",
       "    <tr>\n",
       "      <th>4</th>\n",
       "      <td>Elsevier; Medline; WHO</td>\n",
       "      <td>125</td>\n",
       "    </tr>\n",
       "  </tbody>\n",
       "</table>\n",
       "</div>"
      ],
      "text/plain": [
       "                   source_x  count\n",
       "0             Elsevier; WHO     48\n",
       "1  ArXiv; Medline; PMC; WHO      3\n",
       "2                   Medline  49338\n",
       "3       ArXiv; Medline; PMC     21\n",
       "4    Elsevier; Medline; WHO    125"
      ]
     },
     "execution_count": 154,
     "metadata": {},
     "output_type": "execute_result"
    }
   ],
   "source": [
    "source_xstatdf.toPandas().head()"
   ]
  },
  {
   "cell_type": "markdown",
   "metadata": {},
   "source": [
    "## Load MetaData"
   ]
  },
  {
   "cell_type": "code",
   "execution_count": 131,
   "metadata": {
    "colab": {},
    "colab_type": "code",
    "id": "FKjioqRmc2dB"
   },
   "outputs": [],
   "source": [
    "metadata = spark.read\\\n",
    "                .format(\"csv\")\\\n",
    "                .option(\"header\", \"true\")\\\n",
    "                .load('metadata.csv').select(\"journal\",\"abstract\",\"title\",\"license\",\"source_x\" , \"publish_time\",\"sha\",\"pdf_json_files\")"
   ]
  },
  {
   "cell_type": "markdown",
   "metadata": {},
   "source": [
    "# Define The Json Schema"
   ]
  },
  {
   "cell_type": "code",
   "execution_count": 132,
   "metadata": {
    "colab": {
     "base_uri": "https://localhost:8080/",
     "height": 238
    },
    "colab_type": "code",
    "executionInfo": {
     "elapsed": 1079,
     "status": "ok",
     "timestamp": 1589752957469,
     "user": {
      "displayName": "Ahmed Samir",
      "photoUrl": "https://lh3.googleusercontent.com/a-/AOh14GhSN3WEwfveBmcF37wOzIy1hDQbfY21c0kGBG_I=s64",
      "userId": "02390443002865386025"
     },
     "user_tz": -120
    },
    "id": "UUnh0bH_om6Y",
    "outputId": "409c9148-9ce7-458b-81c5-291bcda10c60"
   },
   "outputs": [],
   "source": [
    "def generate_schema():\n",
    "    author_fields = [\n",
    "        StructField(\"first\", StringType()),\n",
    "        StructField(\"middle\", ArrayType(StringType())),\n",
    "        StructField(\"last\", StringType()),\n",
    "        StructField(\"suffix\", StringType()),\n",
    "    ]\n",
    "    authors_schema = ArrayType(\n",
    "        StructType(\n",
    "            author_fields\n",
    "            + [\n",
    "                StructField(\n",
    "                    \"affiliation\",\n",
    "                    StructType(\n",
    "                        [\n",
    "                            StructField(\"laboratory\", StringType()),\n",
    "                            StructField(\"institution\", StringType()),\n",
    "                            StructField(\n",
    "                                \"location\",\n",
    "                                StructType(\n",
    "                                    [\n",
    "                                        StructField(\"settlement\", StringType()),\n",
    "                                        StructField(\"country\", StringType()),\n",
    "                                    ]\n",
    "                                ),\n",
    "                            ),\n",
    "                        ]\n",
    "                    ),\n",
    "                ),\n",
    "                StructField(\"email\", StringType()),\n",
    "            ]\n",
    "        )\n",
    "    )\n",
    "    spans_schema = ArrayType(\n",
    "        StructType(\n",
    "            [\n",
    "                StructField(\"start\", IntegerType()),\n",
    "                StructField(\"end\", IntegerType()),\n",
    "                StructField(\"text\", StringType()),\n",
    "                StructField(\"ref_id\", StringType()),\n",
    "            ]\n",
    "        )\n",
    "    )\n",
    "\n",
    "    section_schema = ArrayType(\n",
    "        StructType(\n",
    "            [\n",
    "                StructField(\"text\", StringType()),\n",
    "                StructField(\"cite_spans\", spans_schema),\n",
    "                StructField(\"ref_spans\", spans_schema),\n",
    "                StructField(\"eq_spans\", spans_schema),\n",
    "                StructField(\"section\", StringType()),\n",
    "            ]\n",
    "        )\n",
    "    )\n",
    "\n",
    "    bib_schema = MapType(\n",
    "        StringType(),\n",
    "        StructType(\n",
    "            [\n",
    "                StructField(\"ref_id\", StringType()),\n",
    "                StructField(\"title\", StringType()),\n",
    "                StructField(\"authors\", ArrayType(StructType(author_fields))),\n",
    "                StructField(\"year\", IntegerType()),\n",
    "                StructField(\"venue\", StringType()),\n",
    "                StructField(\"volume\", StringType()),\n",
    "                StructField(\"issn\", StringType()),\n",
    "                StructField(\"pages\", StringType()),\n",
    "                StructField(\n",
    "                    \"other_ids\",\n",
    "                    StructType([StructField(\"DOI\", ArrayType(StringType()))]),\n",
    "                ),\n",
    "            ]\n",
    "        ),\n",
    "        True,\n",
    "    )\n",
    "\n",
    "    ref_schema = MapType(\n",
    "        StringType(),\n",
    "        StructType(\n",
    "            [\n",
    "                StructField(\"text\", StringType()),\n",
    "                StructField(\"latex\", StringType()),\n",
    "                StructField(\"type\", StringType()),\n",
    "            ]\n",
    "        ),\n",
    "    )\n",
    "\n",
    "    return StructType(\n",
    "        [\n",
    "            StructField(\"paper_id\", StringType()),\n",
    "            StructField(\n",
    "                \"metadata\",\n",
    "                StructType(\n",
    "                    [\n",
    "                        StructField(\"title\", StringType()),\n",
    "                        StructField(\"authors\", authors_schema),\n",
    "                    ]\n",
    "                ),\n",
    "                True,\n",
    "            ),\n",
    "            StructField(\"abstract\", section_schema),\n",
    "            StructField(\"body_text\", section_schema),\n",
    "            StructField(\"bib_entries\", bib_schema),\n",
    "            StructField(\"ref_entries\", ref_schema),\n",
    "            StructField(\"back_matter\", section_schema),\n",
    "        ]\n",
    "    )\n",
    "\n",
    "\n",
    "def extract_dataframe(spark,path):\n",
    "    \n",
    "    return spark.read.json(path, schema=generate_schema(), multiLine=True)\n",
    "       "
   ]
  },
  {
   "cell_type": "code",
   "execution_count": 133,
   "metadata": {},
   "outputs": [],
   "source": [
    "def ascii_ignore(x):\n",
    "    return x.encode('ascii', 'ignore').decode('ascii')\n",
    "ascii_udf = udf(ascii_ignore)"
   ]
  },
  {
   "cell_type": "code",
   "execution_count": 136,
   "metadata": {
    "colab": {},
    "colab_type": "code",
    "id": "Cvpl_r7Lp18I"
   },
   "outputs": [],
   "source": [
    "def LoadSelectedFeatures(path):\n",
    "    \n",
    "     # load trainging \n",
    "    df = extract_dataframe(spark,path)\n",
    "    sqlContext = SQLContext(sc)\n",
    "    selectedFeatures = df.select(\"paper_id\",\"metadata.title\",\"body_text.text\")\n",
    "    \n",
    "    selectedFeatures.createOrReplaceTempView(\"parquetFile\")\n",
    "\n",
    "    view = spark.sql(\"SELECT paper_id,title as paper_title,text as paper_text FROM parquetFile\")\n",
    "    \n",
    "    return view;\n",
    "\n",
    "def LoadDataAndSaveParquet(path):\n",
    "   \n",
    "    selectedFeatures = LoadSelectedFeatures(path)    \n",
    "    !rm -R \"datajson.parquet\"\n",
    "    saveParq(selectedFeatures,\"datajson.parquet\")\n",
    " \n",
    "    return selectedFeatures;\n",
    "\n",
    "def saveParq(datfrm , path):\n",
    "#     ! rm -R path\n",
    "    datfrm.repartition(5).write.save(path);\n",
    "\n",
    "def LoadParq(path):\n",
    "    return spark.read.parquet(path);"
   ]
  },
  {
   "cell_type": "code",
   "execution_count": 135,
   "metadata": {
    "colab": {},
    "colab_type": "code",
    "id": "HxvaKTc6p5Ft"
   },
   "outputs": [],
   "source": [
    "def LoadDataFromParquet():\n",
    "     \n",
    "    parquetFile = LoadParq(\"datajson.parquet\")\n",
    "    \n",
    "    parquetFile.createOrReplaceTempView(\"parquetFile\")\n",
    "\n",
    "    tmpview = spark.sql(\"SELECT paper_id,title as paper_title,text as paper_text FROM parquetFile\")\n",
    "    \n",
    "    return tmpview;"
   ]
  },
  {
   "cell_type": "code",
   "execution_count": 186,
   "metadata": {
    "colab": {},
    "colab_type": "code",
    "id": "2DXy3c1td83r"
   },
   "outputs": [],
   "source": [
    "def prepare_dataset(metadata,tmpview): \n",
    "\n",
    "    tmpview=tmpview.withColumn('fullText', array_join(tmpview.paper_text, \"  \")).drop(tmpview.paper_text)\n",
    "    \n",
    "    tmpview = tmpview.withColumn(\"fullText\", ascii_udf('fullText'))\n",
    "                               \n",
    "    metadata = metadata.withColumn('publish_time', metadata['publish_time'].cast(DateType()))\n",
    "\n",
    "    dataset= metadata.join(tmpview , metadata.sha == tmpview.paper_id)\n",
    "\n",
    "    dataset = dataset.dropDuplicates()\n",
    "\n",
    "    dataset = dataset.fillna('NA', subset=['journal'])\n",
    "   \n",
    "    dataset = dataset.withColumn('publish_time',when(col('publish_time').isNull(),to_date(lit('01.01.1900'),'dd.MM.yyyy')).otherwise(col('publish_time')))\n",
    "    \n",
    "     dataset.withColumn('publish_year',year(dataset.publish_time))\n",
    "    \n",
    "#     dataset = dataset.withColumn('pub_week_of_year',weekofyear(dataset.publish_time))\n",
    "    \n",
    "    return dataset;\n"
   ]
  },
  {
   "cell_type": "code",
   "execution_count": 138,
   "metadata": {},
   "outputs": [],
   "source": [
    "import requests\n",
    "stop_words = requests.get('http://ir.dcs.gla.ac.uk/resources/linguistic_utils/stop_words').text.split()\n",
    "\n",
    "x=\"!()-[]{};:'\"+\"\\,<>./?@#$%^&*_~\"+'\"'\n",
    "      \n",
    "\n",
    "custom_stop_words = [ 'doi', 'preprint', 'copyright', 'peer', 'reviewed', 'org',\n",
    "'https', 'et', 'al', 'author', 'figure','rights', 'reserved', 'permission', 'used', 'using',\n",
    "'biorxiv', 'medrxiv', 'license', 'fig', 'fig.', 'al.', 'Elsevier', 'PMC', 'CZI', 'www']\n",
    "Punctuation=[char for char in x]\n",
    "all_stop_words=stop_words+custom_stop_words+Punctuation"
   ]
  },
  {
   "cell_type": "code",
   "execution_count": 139,
   "metadata": {},
   "outputs": [],
   "source": [
    "from pyspark.ml.feature import StopWordsRemover\n",
    "from pyspark.ml.feature import IDF\n",
    "from pyspark.sql.functions import *\n",
    "from pyspark.ml.feature import OneHotEncoderEstimator, StringIndexer, VectorAssembler\n",
    "\n",
    "def prepareStages():\n",
    "    \n",
    "    tokenizer = Tokenizer().setInputCol('fullText').setOutputCol('words')\n",
    "    \n",
    "    sw_filter = StopWordsRemover()\\\n",
    "      .setStopWords(all_stop_words)\\\n",
    "      .setCaseSensitive(False)\\\n",
    "      .setInputCol(\"words\")\\\n",
    "      .setOutputCol(\"filtered\")\n",
    "\n",
    "    cv = CountVectorizer(minTF=2., minDF=5., vocabSize=3000)\\\n",
    "      .setInputCol(\"filtered\")\\\n",
    "      .setOutputCol(\"tf\")\n",
    "    \n",
    "    idf = IDF().\\\n",
    "    setInputCol('tf').\\\n",
    "    setOutputCol('tfidf')\n",
    "    \n",
    "    # create the string indexers for the categoricalColumns in our selelect feature list \n",
    "\n",
    "    categoricalColumns = [\"journal\",\"license\",\"source_x\"] \n",
    "    stages = [tokenizer, sw_filter,cv,idf]\n",
    "    for categoricalCol in categoricalColumns:\n",
    "        stringIndexer = StringIndexer(inputCol = categoricalCol, outputCol = categoricalCol + 'Index',handleInvalid='keep')\n",
    "        #stringIndexer = StringIndexer(inputCol = categoricalCol, outputCol = categoricalCol + 'Index')\n",
    "        encoder = OneHotEncoderEstimator(inputCols=[stringIndexer.getOutputCol()], outputCols=[categoricalCol + \"classVec\"])\n",
    "        stages += [stringIndexer, encoder]    \n",
    "\n",
    "    #create the VectorAssembler for the numColumns in our selelect feature list \n",
    "    numericCols =[\"publish_year\"] #\n",
    "    assemblerInputs = [c + \"classVec\" for c in categoricalColumns] + numericCols +[\"tfidf\"]\n",
    "    assembler = VectorAssembler(inputCols=assemblerInputs, outputCol=\"features\")\n",
    "    stages += [assembler]\n",
    "    \n",
    "    return stages;"
   ]
  },
  {
   "cell_type": "code",
   "execution_count": 140,
   "metadata": {
    "colab": {},
    "colab_type": "code",
    "id": "i7YGd3PXp9qR"
   },
   "outputs": [],
   "source": [
    "tmpview = LoadDataAndSaveParquet(\"document_parses/pdf_json/0*\")\n",
    "# tmpview = LoadDataFromParquet()"
   ]
  },
  {
   "cell_type": "code",
   "execution_count": 28,
   "metadata": {
    "colab": {},
    "colab_type": "code",
    "id": "u765iW3QqCfm"
   },
   "outputs": [
    {
     "data": {
      "text/plain": [
       "3673"
      ]
     },
     "execution_count": 28,
     "metadata": {},
     "output_type": "execute_result"
    }
   ],
   "source": [
    "tmpview.count()"
   ]
  },
  {
   "cell_type": "code",
   "execution_count": 141,
   "metadata": {
    "colab": {},
    "colab_type": "code",
    "id": "Rbkz7RmDYlgn"
   },
   "outputs": [],
   "source": [
    "dataset = prepare_dataset(metadata,tmpview)"
   ]
  },
  {
   "cell_type": "code",
   "execution_count": 30,
   "metadata": {
    "colab": {
     "base_uri": "https://localhost:8080/",
     "height": 34
    },
    "colab_type": "code",
    "executionInfo": {
     "elapsed": 10526,
     "status": "ok",
     "timestamp": 1589750583786,
     "user": {
      "displayName": "Ahmed Samir",
      "photoUrl": "https://lh3.googleusercontent.com/a-/AOh14GhSN3WEwfveBmcF37wOzIy1hDQbfY21c0kGBG_I=s64",
      "userId": "02390443002865386025"
     },
     "user_tz": -120
    },
    "id": "URa0KmP9fk8d",
    "outputId": "024a88fa-246e-4408-ac66-1b631510e362"
   },
   "outputs": [
    {
     "data": {
      "text/plain": [
       "3229"
      ]
     },
     "execution_count": 30,
     "metadata": {},
     "output_type": "execute_result"
    }
   ],
   "source": [
    "dataset.count()"
   ]
  },
  {
   "cell_type": "code",
   "execution_count": null,
   "metadata": {},
   "outputs": [],
   "source": [
    "dataset.show(1)"
   ]
  },
  {
   "cell_type": "code",
   "execution_count": null,
   "metadata": {
    "colab": {},
    "colab_type": "code",
    "id": "UkAoJz7eabvU"
   },
   "outputs": [],
   "source": [
    "# from pyspark.sql.functions import udf\n",
    "\n",
    "# def ascii_ignore(x):\n",
    "#     return x.encode('ascii', 'ignore').decode('ascii')\n",
    "\n",
    "# ascii_udf = udf(ascii_ignore)\n",
    "\n",
    "# dataset = dataset.withColumn(\"paper_title\", ascii_udf('paper_title')).withColumn(\"fullText\", ascii_udf('fullText'))\\\n",
    "# .withColumn(\"abstract\", ascii_udf('abstract')).withColumn(\"title\", ascii_udf('title')).show()"
   ]
  },
  {
   "cell_type": "code",
   "execution_count": null,
   "metadata": {
    "colab": {},
    "colab_type": "code",
    "id": "TCzNQUd6TZw4"
   },
   "outputs": [],
   "source": [
    "# training_df, validation_df, testing_df = dataset.randomSplit([0.6, 0.3, 0.1], seed=0)"
   ]
  },
  {
   "cell_type": "code",
   "execution_count": 142,
   "metadata": {
    "colab": {},
    "colab_type": "code",
    "id": "i3EU2G0mNNIY"
   },
   "outputs": [],
   "source": [
    "pipeline_estimator = Pipeline(stages=prepareStages())"
   ]
  },
  {
   "cell_type": "code",
   "execution_count": 173,
   "metadata": {
    "colab": {},
    "colab_type": "code",
    "id": "-nWmOmuR8Ola"
   },
   "outputs": [],
   "source": [
    "pipelineModel = pipeline_estimator.fit(dataset)\n",
    "df = pipelineModel.transform(dataset)"
   ]
  },
  {
   "cell_type": "code",
   "execution_count": 174,
   "metadata": {},
   "outputs": [
    {
     "name": "stdout",
     "output_type": "stream",
     "text": [
      "root\n",
      " |-- journal: string (nullable = false)\n",
      " |-- abstract: string (nullable = true)\n",
      " |-- title: string (nullable = true)\n",
      " |-- license: string (nullable = true)\n",
      " |-- source_x: string (nullable = true)\n",
      " |-- publish_time: date (nullable = true)\n",
      " |-- sha: string (nullable = true)\n",
      " |-- pdf_json_files: string (nullable = true)\n",
      " |-- paper_id: string (nullable = true)\n",
      " |-- paper_title: string (nullable = true)\n",
      " |-- fullText: string (nullable = true)\n",
      " |-- pub_week_of_year: integer (nullable = true)\n",
      " |-- words: array (nullable = true)\n",
      " |    |-- element: string (containsNull = true)\n",
      " |-- filtered: array (nullable = true)\n",
      " |    |-- element: string (containsNull = true)\n",
      " |-- tf: vector (nullable = true)\n",
      " |-- tfidf: vector (nullable = true)\n",
      " |-- journalIndex: double (nullable = false)\n",
      " |-- journalclassVec: vector (nullable = true)\n",
      " |-- licenseIndex: double (nullable = false)\n",
      " |-- licenseclassVec: vector (nullable = true)\n",
      " |-- source_xIndex: double (nullable = false)\n",
      " |-- source_xclassVec: vector (nullable = true)\n",
      " |-- features: vector (nullable = true)\n",
      "\n"
     ]
    }
   ],
   "source": [
    "df.printSchema()"
   ]
  },
  {
   "cell_type": "code",
   "execution_count": null,
   "metadata": {},
   "outputs": [],
   "source": [
    "rf = df.select('filtered').take(1)"
   ]
  },
  {
   "cell_type": "code",
   "execution_count": 23,
   "metadata": {
    "colab": {},
    "colab_type": "code",
    "id": "-NpewYSq2Ydn"
   },
   "outputs": [
    {
     "data": {
      "text/plain": [
       "3229"
      ]
     },
     "execution_count": 23,
     "metadata": {},
     "output_type": "execute_result"
    }
   ],
   "source": [
    "df.count()"
   ]
  },
  {
   "cell_type": "markdown",
   "metadata": {},
   "source": [
    "# Features reduction "
   ]
  },
  {
   "cell_type": "code",
   "execution_count": 175,
   "metadata": {
    "colab": {
     "base_uri": "https://localhost:8080/",
     "height": 1000
    },
    "colab_type": "code",
    "executionInfo": {
     "elapsed": 6031,
     "status": "error",
     "timestamp": 1589752601985,
     "user": {
      "displayName": "Ahmed Samir",
      "photoUrl": "https://lh3.googleusercontent.com/a-/AOh14GhSN3WEwfveBmcF37wOzIy1hDQbfY21c0kGBG_I=s64",
      "userId": "02390443002865386025"
     },
     "user_tz": -120
    },
    "id": "aMZ4ZDKLehXJ",
    "outputId": "7972f6f0-44b0-4e15-9abc-0adab8aee412"
   },
   "outputs": [],
   "source": [
    "pca = PCA(k=100, inputCol=\"features\", outputCol=\"pcaFeatures\")\n",
    "pcaModel = pca.fit(df);\n",
    "result=pcaModel.transform(df).select(\"pcaFeatures\",\"title\")\n",
    "df = result.withColumnRenamed(\"pcaFeatures\",\"features\")\n",
    " \n",
    "# result.show(truncate=False)"
   ]
  },
  {
   "cell_type": "code",
   "execution_count": 176,
   "metadata": {},
   "outputs": [],
   "source": [
    "!rm -R \"transformed_df.parquet\""
   ]
  },
  {
   "cell_type": "code",
   "execution_count": 177,
   "metadata": {},
   "outputs": [],
   "source": [
    "saveParq(df,\"transformed_df.parquet\")"
   ]
  },
  {
   "cell_type": "code",
   "execution_count": 178,
   "metadata": {
    "colab": {},
    "colab_type": "code",
    "id": "hwp4-ZtC3fHt"
   },
   "outputs": [],
   "source": [
    "df = LoadParq(\"transformed_df.parquet\")"
   ]
  },
  {
   "cell_type": "markdown",
   "metadata": {},
   "source": [
    "# Kmeans K selections"
   ]
  },
  {
   "cell_type": "code",
   "execution_count": 29,
   "metadata": {
    "colab": {},
    "colab_type": "code",
    "id": "VFHnU6F208io"
   },
   "outputs": [],
   "source": [
    "\n",
    "import numpy as np\n",
    "cost = {}\n",
    "\n",
    "for k in range(2,400,5):\n",
    "    kmeans = KMeans().setK(k).setSeed(3).setFeaturesCol('features')\n",
    "    model = kmeans.fit(df)\n",
    "    cost[k] = model.computeCost(df)"
   ]
  },
  {
   "cell_type": "code",
   "execution_count": 30,
   "metadata": {},
   "outputs": [
    {
     "data": {
      "text/plain": [
       "dict_keys([2, 7, 12, 17, 22, 27, 32, 37, 42, 47, 52, 57, 62, 67, 72, 77, 82, 87, 92, 97, 102, 107, 112, 117, 122, 127, 132, 137, 142, 147, 152, 157, 162, 167, 172, 177, 182, 187, 192, 197, 202, 207, 212, 217, 222, 227, 232, 237, 242, 247, 252, 257, 262, 267, 272, 277, 282, 287, 292, 297, 302, 307, 312, 317, 322, 327, 332, 337, 342, 347, 352, 357, 362, 367, 372, 377, 382, 387, 392, 397])"
      ]
     },
     "execution_count": 30,
     "metadata": {},
     "output_type": "execute_result"
    }
   ],
   "source": [
    "cost.keys() "
   ]
  },
  {
   "cell_type": "code",
   "execution_count": 31,
   "metadata": {},
   "outputs": [],
   "source": [
    "# Plot the cost\n",
    "df_cost = pd.DataFrame(cost.values())\n",
    "df_cost.columns = [\"cost\"]\n",
    "new_col = cost.keys() \n",
    "df_cost.insert(0, 'cluster', new_col)\n",
    "df_cost.to_csv(\"kselectionResult.csv\")\n",
    "kselectionResult=  pd.read_csv(\"kselectionResult.csv\")\n"
   ]
  },
  {
   "cell_type": "code",
   "execution_count": 32,
   "metadata": {},
   "outputs": [
    {
     "data": {
      "image/png": "[encoded data removed]",
      "text/plain": [
       "<Figure size 432x288 with 1 Axes>"
      ]
     },
     "metadata": {
      "needs_background": "light"
     },
     "output_type": "display_data"
    },
    {
     "name": "stdout",
     "output_type": "stream",
     "text": [
      "None\n"
     ]
    }
   ],
   "source": [
    "import pylab as pl\n",
    "import matplotlib.pyplot as plt\n",
    "\n",
    "plt.plot(kselectionResult.cluster, kselectionResult.cost)\n",
    "plt.xlabel('Number of Clusters')\n",
    "plt.ylabel('Score')\n",
    "plt.title('Elbow Curve')\n",
    "print(plt.show())"
   ]
  },
  {
   "cell_type": "code",
   "execution_count": null,
   "metadata": {},
   "outputs": [],
   "source": [
    "kselectionResult=  pd.read_csv(\"kselectionResult.csv\")"
   ]
  },
  {
   "cell_type": "markdown",
   "metadata": {},
   "source": [
    "# using the selected k "
   ]
  },
  {
   "cell_type": "code",
   "execution_count": 179,
   "metadata": {},
   "outputs": [],
   "source": [
    "kmeans = KMeans().setK(42).setSeed(3).setFeaturesCol('features')\n",
    "model = kmeans.fit(df)"
   ]
  },
  {
   "cell_type": "code",
   "execution_count": 180,
   "metadata": {
    "colab": {},
    "colab_type": "code",
    "id": "_H16-bW9nGZK"
   },
   "outputs": [],
   "source": [
    "cluster = model.transform(df)\n"
   ]
  },
  {
   "cell_type": "code",
   "execution_count": 181,
   "metadata": {
    "colab": {
     "base_uri": "https://localhost:8080/",
     "height": 151
    },
    "colab_type": "code",
    "executionInfo": {
     "elapsed": 16061,
     "status": "ok",
     "timestamp": 1589752277966,
     "user": {
      "displayName": "Ahmed Samir",
      "photoUrl": "https://lh3.googleusercontent.com/a-/AOh14GhSN3WEwfveBmcF37wOzIy1hDQbfY21c0kGBG_I=s64",
      "userId": "02390443002865386025"
     },
     "user_tz": -120
    },
    "id": "CRoxSzpJatVx",
    "outputId": "f9857145-08d6-4c44-a34d-16921057b24a"
   },
   "outputs": [
    {
     "name": "stdout",
     "output_type": "stream",
     "text": [
      "+----------+-----+\n",
      "|prediction|count|\n",
      "+----------+-----+\n",
      "|        31|   51|\n",
      "|        34|    1|\n",
      "|        28|  228|\n",
      "|        27|    1|\n",
      "|        26|    1|\n",
      "|        12|    1|\n",
      "|        22|    1|\n",
      "|         1|    1|\n",
      "|        13|    1|\n",
      "|        16|  123|\n",
      "|         6|    2|\n",
      "|         3|    1|\n",
      "|        40|    1|\n",
      "|        20|    1|\n",
      "|         5|    1|\n",
      "|        19|   17|\n",
      "|        41|    1|\n",
      "|        15|    5|\n",
      "|        37|    1|\n",
      "|         9|    2|\n",
      "|        17|    1|\n",
      "|        35|    3|\n",
      "|         4|    1|\n",
      "|         8|    1|\n",
      "|        23|    2|\n",
      "|        39|    1|\n",
      "|         7|  480|\n",
      "|        10|   10|\n",
      "|        38|    1|\n",
      "|        25|    3|\n",
      "|        24|    1|\n",
      "|        29|    1|\n",
      "|        21|    2|\n",
      "|        32|    4|\n",
      "|        11|   15|\n",
      "|        33|    1|\n",
      "|        14|    1|\n",
      "|         2|    1|\n",
      "|        30|    8|\n",
      "|         0| 2233|\n",
      "|        18|   16|\n",
      "|        36|    2|\n",
      "+----------+-----+\n",
      "\n"
     ]
    }
   ],
   "source": [
    "cluster.groupby(\"prediction\").count().show(42)"
   ]
  },
  {
   "cell_type": "code",
   "execution_count": 182,
   "metadata": {},
   "outputs": [
    {
     "name": "stdout",
     "output_type": "stream",
     "text": [
      "root\n",
      " |-- features: vector (nullable = true)\n",
      " |-- title: string (nullable = true)\n",
      " |-- prediction: integer (nullable = false)\n",
      "\n"
     ]
    }
   ],
   "source": [
    "cluster.printSchema()"
   ]
  },
  {
   "cell_type": "code",
   "execution_count": 183,
   "metadata": {
    "colab": {},
    "colab_type": "code",
    "id": "MPa7x5Nb7Mte"
   },
   "outputs": [],
   "source": [
    " \n",
    "from pyspark.sql.functions import broadcast\n",
    "from pyspark.mllib.feature import Normalizer\n",
    "\n",
    "\n",
    "from pyspark.sql.functions import udf\n",
    "import random\n",
    "\n",
    "def cosine_similarityfn(X,Y): \n",
    "    \n",
    "#     return ;\n",
    "     \n",
    "#     return    #random.randint(0, 100);\n",
    "    denom = float(X.norm(2) * Y.norm(2))\n",
    "    if denom == 0.0:\n",
    "        return -1.0\n",
    "    else:\n",
    "        return float(X.dot(Y)) / float(denom)\n",
    "\n",
    "cosine_similarity = udf(cosine_similarityfn)\n",
    "\n",
    "def recommendPaper(paper,N):\n",
    "  \n",
    "    targetdf = metadata.where(metadata.title == paper)\n",
    "    \n",
    "    # load the json file for this paper \n",
    "    testdf = LoadSelectedFeatures(targetdf.select('pdf_json_files').take(1)[0].pdf_json_files)\n",
    "    \n",
    "   \n",
    "    \n",
    "    testdataset= prepare_dataset(metadata,testdf)   \n",
    "     \n",
    "    \n",
    "    pipresult = pipelineModel.transform(testdataset);\n",
    "#     pipresult.printSchema(); \n",
    "   \n",
    "    reducedfeature = pcaModel.transform(pipresult).select(\"title\",\"pcaFeatures\").withColumnRenamed(\"pcaFeatures\",\"features\")\n",
    "    reducedfeature.printSchema()\n",
    "    \n",
    "    result = model.transform(reducedfeature)\n",
    "     \n",
    "    \n",
    "    dfclass = result.select('prediction').take(1)[0].prediction\n",
    "    \n",
    "    \n",
    "\n",
    "    PapersFromtheSameClass = cluster.where(cluster.prediction == dfclass)\n",
    "    \n",
    "    \n",
    "    \n",
    "    result = result.withColumnRenamed('features','features2')\n",
    "    \n",
    "    \n",
    "    dfOfResult = result.select(\"features2\") \n",
    "    \n",
    "    \n",
    "    PapersFromtheSameClass_withCosine = PapersFromtheSameClass.select('title','features').crossJoin(dfOfResult.hint(\"broadcast\")) ;\n",
    "     \n",
    "#     PapersFromtheSameClass_withCosine.count()\n",
    "        \n",
    "    PapersFromtheSameClass_withCosine = PapersFromtheSameClass_withCosine.withColumn(\n",
    "        'COSINE_SIM', cosine_similarity(\"features\",'features2')\n",
    "    ).orderBy(col('COSINE_SIM').desc());\n",
    "    #\n",
    "     \n",
    "        \n",
    "         \n",
    "    \n",
    "#     PapersFromtheSameClass_withCosine.printSchema()\n",
    "    \n",
    "     \n",
    "    return PapersFromtheSameClass_withCosine.take(N)\n",
    "\n",
    " \n"
   ]
  },
  {
   "cell_type": "code",
   "execution_count": 184,
   "metadata": {
    "colab_type": "text",
    "id": "jyhMEwbkswnM"
   },
   "outputs": [
    {
     "name": "stdout",
     "output_type": "stream",
     "text": [
      "root\n",
      " |-- title: string (nullable = true)\n",
      " |-- features: vector (nullable = true)\n",
      "\n"
     ]
    }
   ],
   "source": [
    "r = recommendPaper('Sequence requirements for RNA strand transfer during nidovirus discontinuous subgenomic RNA synthesis',5)"
   ]
  },
  {
   "cell_type": "code",
   "execution_count": 203,
   "metadata": {},
   "outputs": [
    {
     "name": "stdout",
     "output_type": "stream",
     "text": [
      "1\t0.87\tcis-Preferential requirement of a − 1 frameshift product p88 for the replication of Red clover necrotic mosaic virus RNA1\n",
      "2\t0.86\tThe mechanism of RNA recombination in poliovirus\n",
      "3\t0.85\tMolecular characterization of genome segment 2 encoding RNA dependent RNA polymerase of Antheraea mylitta cytoplasmic polyhedrosis virus\n",
      "4\t0.77\tLoss of the Drosophila melanogaster DEAD box protein Ddx1 leads to reduced size and aberrant gametogenesis\n",
      "5\t0.77\tGenetic diversity in the yellow head nidovirus complex\n"
     ]
    }
   ],
   "source": [
    "counter = 1\n",
    "for i in r : \n",
    "    print(str(counter) + \"\\t\" + str(i.COSINE_SIM)[:4]+ \"\\t\"+i.title)\n",
    "    counter = counter+1"
   ]
  }
 ],
 "metadata": {
  "colab": {
   "collapsed_sections": [],
   "name": "Copy of project4_v2.ipynb",
   "provenance": [
    {
     "file_id": "1tnx0KDEOkKAbhjmLFrXZ8XkGV7HHvHJW",
     "timestamp": 1589800606151
    }
   ]
  },
  "kernelspec": {
   "display_name": "Python 3",
   "language": "python",
   "name": "python3"
  },
  "language_info": {
   "codemirror_mode": {
    "name": "ipython",
    "version": 3
   },
   "file_extension": ".py",
   "mimetype": "text/x-python",
   "name": "python",
   "nbconvert_exporter": "python",
   "pygments_lexer": "ipython3",
   "version": "3.6.9"
  }
 },
 "nbformat": 4,
 "nbformat_minor": 4
}
